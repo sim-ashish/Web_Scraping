{
 "cells": [
  {
   "cell_type": "markdown",
   "id": "832272ce",
   "metadata": {},
   "source": [
    "#### Scraping the StackOverflow"
   ]
  },
  {
   "cell_type": "code",
   "execution_count": 2,
   "id": "1fe910f8",
   "metadata": {},
   "outputs": [],
   "source": [
    "import undetected_chromedriver as uc\n",
    "from selenium.webdriver.common.by import By\n",
    "from selenium.webdriver.common.keys import Keys\n",
    "import time\n",
    "\n",
    "options = uc.ChromeOptions()\n",
    "options.add_argument('--user-data-dir=/home/ashish.chaudhary@simform.dom/.config/google-chrome/Default')\n",
    "\n",
    "browser = uc.Chrome(options=options)\n",
    "\n",
    "browser.get('https://stackoverflow.com/questions')\n",
    "search_box = browser.find_element(By.NAME, 'q')\n",
    "search_box.send_keys('selenium')\n",
    "time.sleep(1)\n",
    "search_box.send_keys(' ')\n",
    "time.sleep(1)\n",
    "search_box.send_keys('python')\n",
    "time.sleep(1)\n",
    "search_box.send_keys(Keys.RETURN)\n",
    "time.sleep(10)\n",
    "browser.quit()\n",
    "\n"
   ]
  }
 ],
 "metadata": {
  "kernelspec": {
   "display_name": "Python 3",
   "language": "python",
   "name": "python3"
  },
  "language_info": {
   "codemirror_mode": {
    "name": "ipython",
    "version": 3
   },
   "file_extension": ".py",
   "mimetype": "text/x-python",
   "name": "python",
   "nbconvert_exporter": "python",
   "pygments_lexer": "ipython3",
   "version": "3.8.10"
  }
 },
 "nbformat": 4,
 "nbformat_minor": 5
}
