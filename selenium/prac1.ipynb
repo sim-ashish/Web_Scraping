{
 "cells": [
  {
   "cell_type": "code",
   "execution_count": 3,
   "id": "71692da5",
   "metadata": {},
   "outputs": [
    {
     "name": "stderr",
     "output_type": "stream",
     "text": [
      "The geckodriver version (0.35.0) detected in PATH at /usr/bin/geckodriver might not be compatible with the detected firefox version (136.0); currently, geckodriver 0.36.0 is recommended for firefox 136.*, so it is advised to delete the driver in PATH and retry\n"
     ]
    },
    {
     "name": "stdout",
     "output_type": "stream",
     "text": [
      "Page title is: All products | Books to Scrape - Sandbox\n",
      "Page heading is: All products\n"
     ]
    }
   ],
   "source": [
    "from selenium import webdriver\n",
    "from selenium.webdriver.firefox.service import Service\n",
    "from selenium.webdriver.firefox.options import Options\n",
    "from selenium.webdriver.common.by import By\n",
    "import time\n",
    "\n",
    "# Optional: set Firefox to run in headless mode\n",
    "options = Options()\n",
    "# options.add_argument(\"--headless\")  # Uncomment to run without opening the browser window\n",
    "\n",
    "# Set up the WebDriver (assumes geckodriver is in your PATH)\n",
    "service = Service()\n",
    "driver = webdriver.Firefox(service=service, options=options)\n",
    "\n",
    "try:\n",
    "    # Open a website\n",
    "    driver.get(\"https://books.toscrape.com/\")\n",
    "    \n",
    "    # Wait for the page to load\n",
    "    time.sleep(2)\n",
    "\n",
    "    # Print page title\n",
    "    print(\"Page title is:\", driver.title)\n",
    "\n",
    "    # Example interaction: locate and print the heading text\n",
    "    heading = driver.find_element(By.TAG_NAME, \"h1\")\n",
    "    print(\"Page heading is:\", heading.text)\n",
    "\n",
    "finally:\n",
    "    # Close the browser\n",
    "    driver.quit()\n"
   ]
  }
 ],
 "metadata": {
  "kernelspec": {
   "display_name": "Python 3",
   "language": "python",
   "name": "python3"
  },
  "language_info": {
   "codemirror_mode": {
    "name": "ipython",
    "version": 3
   },
   "file_extension": ".py",
   "mimetype": "text/x-python",
   "name": "python",
   "nbconvert_exporter": "python",
   "pygments_lexer": "ipython3",
   "version": "3.8.10"
  }
 },
 "nbformat": 4,
 "nbformat_minor": 5
}
