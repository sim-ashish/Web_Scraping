{
 "cells": [
  {
   "cell_type": "code",
   "execution_count": null,
   "id": "e578c937",
   "metadata": {},
   "outputs": [
    {
     "name": "stderr",
     "output_type": "stream",
     "text": [
      "The geckodriver version (0.35.0) detected in PATH at /usr/bin/geckodriver might not be compatible with the detected firefox version (136.0); currently, geckodriver 0.36.0 is recommended for firefox 136.*, so it is advised to delete the driver in PATH and retry\n"
     ]
    },
    {
     "name": "stdout",
     "output_type": "stream",
     "text": [
      "Error finding the link: Message: \n",
      "Stacktrace:\n",
      "RemoteError@chrome://remote/content/shared/RemoteError.sys.mjs:8:8\n",
      "WebDriverError@chrome://remote/content/shared/webdriver/Errors.sys.mjs:197:5\n",
      "NoSuchElementError@chrome://remote/content/shared/webdriver/Errors.sys.mjs:527:5\n",
      "dom.find/</<@chrome://remote/content/shared/DOM.sys.mjs:136:16\n",
      "\n"
     ]
    },
    {
     "ename": "NameError",
     "evalue": "name 'next_page' is not defined",
     "output_type": "error",
     "traceback": [
      "\u001b[0;31m---------------------------------------------------------------------------\u001b[0m",
      "\u001b[0;31mNameError\u001b[0m                                 Traceback (most recent call last)",
      "Cell \u001b[0;32mIn[1], line 38\u001b[0m\n\u001b[1;32m     36\u001b[0m     driver\u001b[38;5;241m.\u001b[39mquit()\n\u001b[1;32m     37\u001b[0m     exit()\n\u001b[0;32m---> 38\u001b[0m \u001b[43mnext_page\u001b[49m\u001b[38;5;241m.\u001b[39mclick()  \u001b[38;5;66;03m# Click the \"Next\" link\u001b[39;00m\n\u001b[1;32m     39\u001b[0m time\u001b[38;5;241m.\u001b[39msleep(\u001b[38;5;241m2\u001b[39m)  \u001b[38;5;66;03m# Wait for the new page to load\u001b[39;00m\n\u001b[1;32m     40\u001b[0m driver\u001b[38;5;241m.\u001b[39mquit()  \u001b[38;5;66;03m# Close the browser\u001b[39;00m\n",
      "\u001b[0;31mNameError\u001b[0m: name 'next_page' is not defined"
     ]
    },
    {
     "ename": "",
     "evalue": "",
     "output_type": "error",
     "traceback": [
      "\u001b[1;31mThe Kernel crashed while executing code in the current cell or a previous cell. \n",
      "\u001b[1;31mPlease review the code in the cell(s) to identify a possible cause of the failure. \n",
      "\u001b[1;31mClick <a href='https://aka.ms/vscodeJupyterKernelCrash'>here</a> for more info. \n",
      "\u001b[1;31mView Jupyter <a href='command:jupyter.viewOutput'>log</a> for further details."
     ]
    }
   ],
   "source": [
    "from selenium import webdriver\n",
    "from selenium.webdriver.firefox.service import Service\n",
    "from selenium.webdriver.firefox.options import Options\n",
    "from selenium.webdriver.support.ui import WebDriverWait\n",
    "from selenium.webdriver.support import expected_conditions as EC\n",
    "from selenium.webdriver.common.by import By\n",
    "import time\n",
    "\n",
    "options = Options()\n",
    "service = Service()\n",
    "driver = webdriver.Firefox(service=service, options=options)\n",
    "\n",
    "driver.get(\"https://quotes.toscrape.com/\")\n",
    "time.sleep(2)  # Wait for the page to load\n",
    "# anchor = driver.find_element(By.LINK_TEXT, \"inspirational\") # sometimes the load is slow so we have to wait\n",
    "try:\n",
    "    anchor = WebDriverWait(driver, 10).until(\n",
    "        EC.presence_of_element_located((By.LINK_TEXT, \"inspirational\"))\n",
    "    )\n",
    "except Exception as e:\n",
    "    print(f\"Error finding the link: {e}\")\n",
    "    driver.quit()\n",
    "    exit()\n",
    "anchor.click()  # Click the link with text \"inspirational\"\n",
    "time.sleep(2)  # Wait for the new page to load\n",
    "try:\n",
    "    next_page = WebDriverWait(driver, 10).until(\n",
    "        EC.presence_of_element_located((By.LINK_TEXT, \"Next\"))\n",
    "    )\n",
    "    if next_page is None:\n",
    "        print(\"Next page link not found.\")\n",
    "        driver.quit()\n",
    "        exit()\n",
    "except Exception as e:\n",
    "    print(f\"Error finding the link: {e}\")\n",
    "    driver.quit()\n",
    "    exit()\n",
    "next_page.click()  # Click the \"Next\" link\n",
    "driver.execute_script(\"window.scrollTo(0, document.body.scrollHeight);\")  # Scroll to the bottom of the page\n",
    "driver.back()  # Go back to the previous page\n",
    "driver.forward()  # Go forward to the next page\n",
    "time.sleep(2)  # Wait for the new page to load\n",
    "driver.quit()  # Close the browser\n",
    "\n",
    "\n"
   ]
  }
 ],
 "metadata": {
  "kernelspec": {
   "display_name": "Python 3",
   "language": "python",
   "name": "python3"
  },
  "language_info": {
   "codemirror_mode": {
    "name": "ipython",
    "version": 3
   },
   "file_extension": ".py",
   "mimetype": "text/x-python",
   "name": "python",
   "nbconvert_exporter": "python",
   "pygments_lexer": "ipython3",
   "version": "3.8.10"
  }
 },
 "nbformat": 4,
 "nbformat_minor": 5
}
