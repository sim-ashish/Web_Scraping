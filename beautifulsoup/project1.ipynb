{
 "cells": [
  {
   "cell_type": "code",
   "execution_count": 1,
   "id": "30268482",
   "metadata": {},
   "outputs": [],
   "source": [
    "import requests\n",
    "from bs4 import BeautifulSoup"
   ]
  },
  {
   "cell_type": "code",
   "execution_count": 3,
   "id": "02478d93",
   "metadata": {},
   "outputs": [
    {
     "name": "stdout",
     "output_type": "stream",
     "text": [
      "“The world as we have created it is a process of our thinking. It cannot be changed without changing our thinking.” - Albert Einstein | Tags : change, deep-thoughts, thinking, world\n",
      "“It is our choices, Harry, that show what we truly are, far more than our abilities.” - J.K. Rowling | Tags : abilities, choices\n",
      "“There are only two ways to live your life. One is as though nothing is a miracle. The other is as though everything is a miracle.” - Albert Einstein | Tags : inspirational, life, live, miracle, miracles\n",
      "“The person, be it gentleman or lady, who has not pleasure in a good novel, must be intolerably stupid.” - Jane Austen | Tags : aliteracy, books, classic, humor\n",
      "“Imperfection is beauty, madness is genius and it's better to be absolutely ridiculous than absolutely boring.” - Marilyn Monroe | Tags : be-yourself, inspirational\n",
      "“Try not to become a man of success. Rather become a man of value.” - Albert Einstein | Tags : adulthood, success, value\n",
      "“It is better to be hated for what you are than to be loved for what you are not.” - André Gide | Tags : life, love\n",
      "“I have not failed. I've just found 10,000 ways that won't work.” - Thomas A. Edison | Tags : edison, failure, inspirational, paraphrased\n",
      "“A woman is like a tea bag; you never know how strong it is until it's in hot water.” - Eleanor Roosevelt | Tags : misattributed-eleanor-roosevelt\n",
      "“A day without sunshine is like, you know, night.” - Steve Martin | Tags : humor, obvious, simile\n"
     ]
    }
   ],
   "source": [
    "url = \"http://quotes.toscrape.com/\"\n",
    "response = requests.get(url)\n",
    "if response.status_code == 200:\n",
    "    soup = BeautifulSoup(response.text, \"html.parser\")\n",
    "    quotes = soup.find_all(\"div\", class_=\"quote\")\n",
    "    \n",
    "    for quote in quotes:\n",
    "        text = quote.find(\"span\", class_=\"text\").get_text()\n",
    "        author = quote.find(\"small\", class_=\"author\").get_text()\n",
    "        tags = [tag.get_text() for tag in quote.find_all(\"a\", class_=\"tag\")]\n",
    "        \n",
    "        print(f\"{text} - {author} | Tags : {', '.join(tags)}\")"
   ]
  }
 ],
 "metadata": {
  "kernelspec": {
   "display_name": "Python 3",
   "language": "python",
   "name": "python3"
  },
  "language_info": {
   "codemirror_mode": {
    "name": "ipython",
    "version": 3
   },
   "file_extension": ".py",
   "mimetype": "text/x-python",
   "name": "python",
   "nbconvert_exporter": "python",
   "pygments_lexer": "ipython3",
   "version": "3.8.10"
  }
 },
 "nbformat": 4,
 "nbformat_minor": 5
}
