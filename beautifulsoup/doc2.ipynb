{
 "cells": [
  {
   "cell_type": "markdown",
   "id": "074e80ab",
   "metadata": {},
   "source": [
    "### Navigating the tree"
   ]
  },
  {
   "cell_type": "code",
   "execution_count": 2,
   "id": "11749f99",
   "metadata": {},
   "outputs": [],
   "source": [
    "from bs4 import BeautifulSoup"
   ]
  },
  {
   "cell_type": "code",
   "execution_count": 3,
   "id": "58080c0a",
   "metadata": {},
   "outputs": [],
   "source": [
    "html_doc = \"\"\"\n",
    "<html><head><title>The Dormouse's story</title></head>\n",
    "<body>\n",
    "<p class=\"title\"><b>The Dormouse's story</b></p>\n",
    "\n",
    "<p class=\"story\">Once upon a time there were three little sisters; and their names were\n",
    "<a href=\"http://example.com/elsie\" class=\"sister\" id=\"link1\">Elsie</a>,\n",
    "<a href=\"http://example.com/lacie\" class=\"sister\" id=\"link2\">Lacie</a> and\n",
    "<a href=\"http://example.com/tillie\" class=\"sister\" id=\"link3\">Tillie</a>;\n",
    "and they lived at the bottom of a well.</p>\n",
    "\n",
    "<p class=\"story\">\n",
    "they were nice little sisters, and they lived at the bottom of a well.\n",
    "</p>\n",
    "\"\"\""
   ]
  },
  {
   "cell_type": "code",
   "execution_count": 4,
   "id": "e354f79a",
   "metadata": {},
   "outputs": [],
   "source": [
    "soup = BeautifulSoup(html_doc, 'html.parser')"
   ]
  },
  {
   "cell_type": "code",
   "execution_count": 11,
   "id": "ce95a63c",
   "metadata": {},
   "outputs": [
    {
     "name": "stdout",
     "output_type": "stream",
     "text": [
      "<p class=\"title\"><b>The Dormouse's story</b></p>\n",
      "<p class=\"title\"><b>The Dormouse's story</b></p>\n",
      "<body>\n",
      "<p class=\"title\"><b>The Dormouse's story</b></p>\n",
      "<p class=\"story\">Once upon a time there were three little sisters; and their names were\n",
      "<a class=\"sister\" href=\"http://example.com/elsie\" id=\"link1\">Elsie</a>,\n",
      "<a class=\"sister\" href=\"http://example.com/lacie\" id=\"link2\">Lacie</a> and\n",
      "<a class=\"sister\" href=\"http://example.com/tillie\" id=\"link3\">Tillie</a>;\n",
      "and they lived at the bottom of a well.</p>\n",
      "<p class=\"story\">\n",
      "they were nice little sisters, and they lived at the bottom of a well.\n",
      "</p>\n",
      "</body>\n",
      "<p class=\"title\"><b>The Dormouse's story</b></p>\n",
      "[<a class=\"sister\" href=\"http://example.com/elsie\" id=\"link1\">Elsie</a>, <a class=\"sister\" href=\"http://example.com/lacie\" id=\"link2\">Lacie</a>, <a class=\"sister\" href=\"http://example.com/tillie\" id=\"link3\">Tillie</a>]\n"
     ]
    }
   ],
   "source": [
    "# Going Down the tree\n",
    "# Finding the first <p> tag\n",
    "first_p = soup.find('p')\n",
    "print(first_p)\n",
    "first_p_tag = soup.p # Accessing the first <p> tag directly\n",
    "print(first_p_tag)\n",
    "body_tag = soup.body  # Accessing the <body> tag\n",
    "print(body_tag)\n",
    "again_p_tag = body_tag.p  # Accessing the first <p> tag within <body>\n",
    "print(again_p_tag)\n",
    "all_anchors = soup.find_all('a')  # Finding all <a> tags, it will return a list\n",
    "print(all_anchors)"
   ]
  },
  {
   "cell_type": "code",
   "execution_count": null,
   "id": "055d11ba",
   "metadata": {},
   "outputs": [
    {
     "name": "stdout",
     "output_type": "stream",
     "text": [
      "<head><title>The Dormouse's story</title></head>\n",
      "[<title>The Dormouse's story</title>]\n",
      "<title>The Dormouse's story</title>\n",
      "[\"The Dormouse's story\"]\n",
      "The Dormouse's story\n",
      "<title>The Dormouse's story</title>\n",
      "The Dormouse's story\n",
      "The Dormouse's story\n"
     ]
    }
   ],
   "source": [
    "# .contains() method and .children attribute\n",
    "head_tag = soup.head\n",
    "print(head_tag)\n",
    "print(head_tag.contents)\n",
    "\n",
    "title_tag = head_tag.contents[0]\n",
    "print(title_tag)\n",
    "\n",
    "print(title_tag.contents)\n",
    "# A string does not have .contents, because it can't contain anything\n",
    "\n",
    "# Instead of getting them as a list, you can iterate over a tag's children using the .children generator:\n",
    "\n",
    "for child in title_tag.children:\n",
    "    print(child)\n",
    "\n",
    "for child in head_tag.descendants:\n",
    "    print(child)\n",
    "\n",
    "len(list(head_tag.children))\n",
    "\n",
    "len(list(soup.descendants))\n",
    "\n",
    "# If a tag's only child is another tag, and that tag has a .string, then the parent tag is considered to have the same .string as its child:\n",
    "print(head_tag.string)\n",
    "# If a tag contains more than one thing, then it's not clear what .string should refer to, so .string is defined to be None:\n"
   ]
  },
  {
   "cell_type": "code",
   "execution_count": 20,
   "id": "47af4992",
   "metadata": {},
   "outputs": [
    {
     "name": "stdout",
     "output_type": "stream",
     "text": [
      "'\\n'\n",
      "\"The Dormouse's story\"\n",
      "'\\n'\n",
      "'\\n'\n",
      "\"The Dormouse's story\"\n",
      "'\\n'\n",
      "'Once upon a time there were three little sisters; and their names were\\n'\n",
      "'Elsie'\n",
      "',\\n'\n",
      "'Lacie'\n",
      "' and\\n'\n",
      "'Tillie'\n",
      "';\\nand they lived at the bottom of a well.'\n",
      "'\\n'\n",
      "'\\nthey were nice little sisters, and they lived at the bottom of a well.\\n'\n",
      "'\\n'\n",
      "-----\n",
      "\"The Dormouse's story\"\n",
      "\"The Dormouse's story\"\n",
      "'Once upon a time there were three little sisters; and their names were'\n",
      "'Elsie'\n",
      "','\n",
      "'Lacie'\n",
      "'and'\n",
      "'Tillie'\n",
      "';\\nand they lived at the bottom of a well.'\n",
      "'they were nice little sisters, and they lived at the bottom of a well.'\n"
     ]
    }
   ],
   "source": [
    "# .strings and .stripped_strings\n",
    "for string in soup.strings:\n",
    "    print(repr(string))\n",
    "\n",
    "print(\"-----\")\n",
    "for string in soup.stripped_strings:\n",
    "    print(repr(string))"
   ]
  },
  {
   "cell_type": "code",
   "execution_count": null,
   "id": "6824bc21",
   "metadata": {},
   "outputs": [
    {
     "name": "stdout",
     "output_type": "stream",
     "text": [
      "<title>The Dormouse's story</title>\n",
      "<head><title>The Dormouse's story</title></head>\n"
     ]
    }
   ],
   "source": [
    "# Going Up the tree\n",
    "title_tag = soup.title\n",
    "title_tag\n",
    "print(title_tag)\n",
    "print(title_tag.string.parent)\n",
    "print(title_tag.parent)"
   ]
  },
  {
   "cell_type": "code",
   "execution_count": 7,
   "id": "4fde2dea",
   "metadata": {},
   "outputs": [
    {
     "name": "stdout",
     "output_type": "stream",
     "text": [
      "head\n",
      "html\n",
      "[document]\n",
      "-----\n",
      "title\n",
      "head\n",
      "html\n",
      "[document]\n"
     ]
    }
   ],
   "source": [
    "for parent in title_tag.parents:\n",
    "    print(parent.name)\n",
    "\n",
    "print(\"-----\")\n",
    "for parent in title_tag.self_and_parents:\n",
    "    print(parent.name)"
   ]
  }
 ],
 "metadata": {
  "kernelspec": {
   "display_name": "Python 3",
   "language": "python",
   "name": "python3"
  },
  "language_info": {
   "codemirror_mode": {
    "name": "ipython",
    "version": 3
   },
   "file_extension": ".py",
   "mimetype": "text/x-python",
   "name": "python",
   "nbconvert_exporter": "python",
   "pygments_lexer": "ipython3",
   "version": "3.8.10"
  }
 },
 "nbformat": 4,
 "nbformat_minor": 5
}
