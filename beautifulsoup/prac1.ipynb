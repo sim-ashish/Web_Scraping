{
 "cells": [
  {
   "cell_type": "code",
   "execution_count": 1,
   "id": "40463367",
   "metadata": {},
   "outputs": [],
   "source": [
    "from bs4 import BeautifulSoup\n",
    "import requests"
   ]
  },
  {
   "cell_type": "code",
   "execution_count": 2,
   "id": "f182a6f0",
   "metadata": {},
   "outputs": [],
   "source": [
    "url = 'https://www.scrapethissite.com/pages/forms/'\n"
   ]
  },
  {
   "cell_type": "code",
   "execution_count": 4,
   "id": "98345516",
   "metadata": {},
   "outputs": [],
   "source": [
    "page = requests.get(url)"
   ]
  },
  {
   "cell_type": "code",
   "execution_count": 10,
   "id": "b99c7a5f",
   "metadata": {},
   "outputs": [],
   "source": [
    "soup = BeautifulSoup(page.text, 'html.parser')"
   ]
  },
  {
   "cell_type": "code",
   "execution_count": null,
   "id": "7f134796",
   "metadata": {},
   "outputs": [],
   "source": [
    "print(soup.prettify()) # or simple print(soup)"
   ]
  },
  {
   "cell_type": "code",
   "execution_count": null,
   "id": "b19fa81c",
   "metadata": {},
   "outputs": [],
   "source": [
    "print(soup.title)  # Accessing the title of the page with tag\n",
    "print(soup.title.string)  # Accessing the title text\n",
    "print(soup.title.name)  # Accessing the tag name\n",
    "print(soup.title.parent.name)  # Accessing the parent tag name\n",
    "print(soup.p) # Accessing the first paragraph tag\n",
    "print(soup.p['class'])  # Accessing the class attribute of the first paragraph tag\n",
    "print(soup.a) # Accessing the first anchor tag\n",
    "print(soup.find_all('a'))  # Finding all anchor tags\n",
    "print(soup.find(id=\"link3\"))  # Finding an element by its ID"
   ]
  },
  {
   "cell_type": "code",
   "execution_count": null,
   "id": "7fa9a602",
   "metadata": {},
   "outputs": [],
   "source": [
    "for link in soup.find_all('a'):\n",
    "    print(link.get('href'))  # Printing the href attribute of each anchor tag\n",
    "    "
   ]
  },
  {
   "cell_type": "code",
   "execution_count": null,
   "id": "21db6532",
   "metadata": {},
   "outputs": [],
   "source": [
    "print(soup.get_text())  # Getting all text from the page"
   ]
  }
 ],
 "metadata": {
  "kernelspec": {
   "display_name": "Python 3",
   "language": "python",
   "name": "python3"
  },
  "language_info": {
   "codemirror_mode": {
    "name": "ipython",
    "version": 3
   },
   "file_extension": ".py",
   "mimetype": "text/x-python",
   "name": "python",
   "nbconvert_exporter": "python",
   "pygments_lexer": "ipython3",
   "version": "3.8.10"
  }
 },
 "nbformat": 4,
 "nbformat_minor": 5
}
