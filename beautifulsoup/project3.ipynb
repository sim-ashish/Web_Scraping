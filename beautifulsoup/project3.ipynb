{
 "cells": [
  {
   "cell_type": "code",
   "execution_count": 11,
   "id": "ec726b4c",
   "metadata": {},
   "outputs": [],
   "source": [
    "import requests\n",
    "from bs4 import BeautifulSoup\n",
    "import pandas as pd"
   ]
  },
  {
   "cell_type": "code",
   "execution_count": 16,
   "id": "c0123272",
   "metadata": {},
   "outputs": [
    {
     "name": "stdout",
     "output_type": "stream",
     "text": [
      "Saved IMDb data to imdb_top50.csv\n"
     ]
    }
   ],
   "source": [
    "headers = {\n",
    "    \"User-Agent\": \"Mozilla/5.0\"\n",
    "}\n",
    "\n",
    "url = \"https://www.imdb.com/chart/top\"\n",
    "\n",
    "response = requests.get(url, headers=headers)\n",
    "\n",
    "if response.status_code == 200:\n",
    "    movies = []\n",
    "    soup = BeautifulSoup(response.text, \"html.parser\")\n",
    "    rows = soup.find_all(\"li\",class_=\"ipc-metadata-list-summary-item\")[:51]    # Skip the header row and get the top 50 movies, filter using css selector\n",
    "    for row in rows:\n",
    "        title_col = row.find(\"h3\", class_=\"ipc-title__text\")\n",
    "        year = row.find(\"span\", class_=\"sc-4b408797-8 iurwGb cli-title-metadata-item\").get_text(strip=True)\n",
    "        rating = row.find(\"span\", class_=\"ipc-rating-star--rating\").get_text(strip=True)\n",
    "\n",
    "        title = title_col.get_text(strip=True)\n",
    "        movies.append({\"Title\": title, \"Year\": year, \"Rating\": float(rating)})\n",
    "        # print(f\"{title} ({year}) - Rating: {rating}\")\n",
    "    \n",
    "    df = pd.DataFrame(movies)\n",
    "    df.to_csv(\"imdb_top50.csv\", index=False)\n",
    "    print(\"Saved IMDb data to imdb_top50.csv\")\n",
    "else:\n",
    "    print(f\"Failed to retrieve data: {response.status_code}\")\n",
    "    print(response.text)\n",
    "    print(response.headers)"
   ]
  }
 ],
 "metadata": {
  "kernelspec": {
   "display_name": "Python 3",
   "language": "python",
   "name": "python3"
  },
  "language_info": {
   "codemirror_mode": {
    "name": "ipython",
    "version": 3
   },
   "file_extension": ".py",
   "mimetype": "text/x-python",
   "name": "python",
   "nbconvert_exporter": "python",
   "pygments_lexer": "ipython3",
   "version": "3.8.10"
  }
 },
 "nbformat": 4,
 "nbformat_minor": 5
}
