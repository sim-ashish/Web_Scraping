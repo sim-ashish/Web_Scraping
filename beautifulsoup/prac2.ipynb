{
 "cells": [
  {
   "cell_type": "code",
   "execution_count": null,
   "id": "e1a65ed7",
   "metadata": {},
   "outputs": [],
   "source": [
    "from bs4 import BeautifulSoup"
   ]
  },
  {
   "cell_type": "code",
   "execution_count": 2,
   "id": "c90e5552",
   "metadata": {},
   "outputs": [],
   "source": [
    "html = '''\n",
    "<html>\n",
    "<head>\n",
    "<title>Sample HTML Document</title>\n",
    "</head>\n",
    "<body>\n",
    "<h1>Welcome to My Page</h1>\n",
    "<p>This is a sample paragraph with <a href=\"https://example.com\">a link</a> and some <strong>bold text</strong>.</p>\n",
    "<p>Here is another paragraph with <em>italic text</em> and a <a href=\"https://another-example.com\">different link</a>.</p>\n",
    "<p>Finally, a paragraph with <span style=\"color: red;\">red text</span> and a <a href=\"https://yet-another-example.com\">third link</a>.</p>\n",
    "</body>\n",
    "</html>\n",
    "'''"
   ]
  },
  {
   "cell_type": "code",
   "execution_count": null,
   "id": "26ec39da",
   "metadata": {},
   "outputs": [],
   "source": [
    "soup = BeautifulSoup(html, 'html.parser')\n",
    "print(soup.prettify())"
   ]
  },
  {
   "cell_type": "code",
   "execution_count": 7,
   "id": "f4c9fa69",
   "metadata": {},
   "outputs": [
    {
     "name": "stdout",
     "output_type": "stream",
     "text": [
      "This is a sample paragraph witha linkand somebold text.\n",
      "Here is another paragraph withitalic textand adifferent link.\n",
      "Finally, a paragraph withred textand athird link.\n"
     ]
    }
   ],
   "source": [
    "paragraph_tags = soup.find_all('p')\n",
    "# print(paragraph_tags)\n",
    "for tag in paragraph_tags:\n",
    "    print(tag.get_text(strip=True))"
   ]
  },
  {
   "cell_type": "code",
   "execution_count": 8,
   "id": "c7bff4b8",
   "metadata": {},
   "outputs": [
    {
     "name": "stdout",
     "output_type": "stream",
     "text": [
      "a link\n",
      "different link\n",
      "third link\n"
     ]
    }
   ],
   "source": [
    "anchor_tags = soup.find_all('a')\n",
    "# print(anchor_tags)\n",
    "for tag in anchor_tags:\n",
    "    print(tag.string)"
   ]
  }
 ],
 "metadata": {
  "kernelspec": {
   "display_name": "Python 3",
   "language": "python",
   "name": "python3"
  },
  "language_info": {
   "codemirror_mode": {
    "name": "ipython",
    "version": 3
   },
   "file_extension": ".py",
   "mimetype": "text/x-python",
   "name": "python",
   "nbconvert_exporter": "python",
   "pygments_lexer": "ipython3",
   "version": "3.8.10"
  }
 },
 "nbformat": 4,
 "nbformat_minor": 5
}
